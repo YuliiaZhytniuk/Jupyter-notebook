{
 "cells": [
  {
   "cell_type": "markdown",
   "id": "8c9444af-f02f-40b0-a3fd-167f9c422e00",
   "metadata": {},
   "source": [
    "# Data Science Tools and Ecosystem"
   ]
  },
  {
   "cell_type": "markdown",
   "id": "436611a1-de4f-414b-a194-064e7355bc24",
   "metadata": {},
   "source": [
    "In this notebook, Data Science Tools and Ecosystem are summarized."
   ]
  },
  {
   "cell_type": "markdown",
   "id": "567f6563-02b0-45ee-859f-d276a099323c",
   "metadata": {},
   "source": [
    "Some of the popular languages that Data Scientists use are:\n",
    "1. Python\n",
    "2. R\n",
    "3. Julia\n",
    "4. Scala\n",
    "5. Matlab\n",
    "6. Java\n",
    "7. SQL"
   ]
  },
  {
   "cell_type": "markdown",
   "id": "da798dff-96b2-4177-97ec-96343bfeefe1",
   "metadata": {},
   "source": [
    "__Objectives:__\n",
    "+ Create a Jupyter Notebook with markdown and code cells\n",
    "+ List examples of languages, libraries and tools used in Data Science\n",
    "+ Share the Jupyter Notebook publicly on GitHub\n",
    "+ Demonstrate proficiency in Data Science toolkit knowledge"
   ]
  },
  {
   "cell_type": "markdown",
   "id": "bbba735d-5575-4895-89df-b0fdc60df579",
   "metadata": {},
   "source": [
    "Some of the commonly used libraries used by Data Scientists include:\n",
    "1. Pandas\n",
    "2. NumPy\n",
    "3. TensorFlow\n",
    "4. Keras\n",
    "5. Scikit-learn\n",
    "6. Matplotlib\n",
    "7. SciPy"
   ]
  },
  {
   "cell_type": "markdown",
   "id": "4607acc2-9f02-49a5-9cb5-8fd9cc823164",
   "metadata": {},
   "source": [
    "| Data Science Tools |\n",
    "| ------------------ |\n",
    "| Jupyter Notebook |\n",
    "| RStudio |\n",
    "| VSCode |\n"
   ]
  },
  {
   "cell_type": "code",
   "execution_count": null,
   "id": "d1a0fdcb-1eff-4295-b540-b3b746c80ee2",
   "metadata": {},
   "outputs": [],
   "source": [
    "### Below are a few examples of evaluating arithmetic expressions in Python"
   ]
  },
  {
   "cell_type": "code",
   "execution_count": 31,
   "id": "bd2c46a1-76ba-478c-859a-fdd63e09351c",
   "metadata": {},
   "outputs": [
    {
     "name": "stdout",
     "output_type": "stream",
     "text": [
      "2.0\n"
     ]
    }
   ],
   "source": [
    "a = 10\n",
    "b = 5\n",
    "result = a / b\n",
    "print(result)"
   ]
  },
  {
   "cell_type": "code",
   "execution_count": 40,
   "id": "615b0919-c181-4ab3-b60e-0c144499708e",
   "metadata": {},
   "outputs": [
    {
     "name": "stdout",
     "output_type": "stream",
     "text": [
      "17\n"
     ]
    }
   ],
   "source": [
    "# This a simple arithmetic expression to mutiply then add integers\n",
    "a = 3\n",
    "b = 4\n",
    "c = 5\n",
    "result = a * b + c\n",
    "print(result)"
   ]
  },
  {
   "cell_type": "code",
   "execution_count": 44,
   "id": "9cfc452f-a113-4df1-a3a5-a369556de0d9",
   "metadata": {},
   "outputs": [
    {
     "name": "stdout",
     "output_type": "stream",
     "text": [
      "3:20\n"
     ]
    }
   ],
   "source": [
    "# This will convert 200 minutes to hours by diving by 60\n",
    "total_minutes = 200\n",
    "hours = total_minutes // 60\n",
    "minutes = total_minutes % 60\n",
    "time = \"{}:{}\".format(hours, minutes)\n",
    "print(time)"
   ]
  },
  {
   "cell_type": "markdown",
   "id": "a4a568e0-1324-4c21-9d58-a38a13ba3740",
   "metadata": {},
   "source": [
    "## Author\n",
    "Yuliia Zhytniuk"
   ]
  },
  {
   "cell_type": "code",
   "execution_count": null,
   "id": "aa6e64a8-79dd-45da-b55c-e28a84fb45f3",
   "metadata": {},
   "outputs": [],
   "source": []
  }
 ],
 "metadata": {
  "kernelspec": {
   "display_name": "Python 3 (ipykernel)",
   "language": "python",
   "name": "python3"
  },
  "language_info": {
   "codemirror_mode": {
    "name": "ipython",
    "version": 3
   },
   "file_extension": ".py",
   "mimetype": "text/x-python",
   "name": "python",
   "nbconvert_exporter": "python",
   "pygments_lexer": "ipython3",
   "version": "3.12.4"
  }
 },
 "nbformat": 4,
 "nbformat_minor": 5
}
